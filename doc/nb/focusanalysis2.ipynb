{
 "cells": [
  {
   "cell_type": "code",
   "execution_count": 1,
   "metadata": {},
   "outputs": [],
   "source": [
    "import fitsio\n",
    "import numpy as np\n",
    "f = fitsio.read('focusdata.fits')"
   ]
  },
  {
   "cell_type": "code",
   "execution_count": 2,
   "metadata": {},
   "outputs": [
    {
     "name": "stdout",
     "output_type": "stream",
     "text": [
      "Loaded 20190415frommartinilut_v2.txt\n",
      "Replace nan with nearest -2000.0 for element 0\n",
      "Replace nan with nearest -4000.0 for element 1\n",
      "Replace nan with nearest -8400.0 for element 2\n",
      "Replace nan with nearest -100.0 for element 3\n",
      "Replace nan with nearest 25.0 for element 4\n",
      "Replace nan with nearest 0.0 for element 5\n",
      "Replace nan with nearest -1888.45 for element 0\n",
      "Replace nan with nearest -4088.52 for element 1\n",
      "Replace nan with nearest -8433.69 for element 2\n",
      "Replace nan with nearest -107.38 for element 3\n",
      "Replace nan with nearest 34.31 for element 4\n",
      "Replace nan with nearest 0.0 for element 5\n",
      "Replace nan with nearest -1994.26 for element 0\n",
      "Replace nan with nearest -4142.64 for element 1\n",
      "Replace nan with nearest -8437.0 for element 2\n",
      "Replace nan with nearest -111.9 for element 3\n",
      "Replace nan with nearest 25.48 for element 4\n",
      "Replace nan with nearest 0.0 for element 5\n",
      "Replace nan with nearest -2000.0 for element 0\n",
      "Replace nan with nearest -4000.0 for element 1\n",
      "Replace nan with nearest -8400.0 for element 2\n",
      "Replace nan with nearest -100.0 for element 3\n",
      "Replace nan with nearest 25.0 for element 4\n",
      "Replace nan with nearest 0.0 for element 5\n",
      "Replace nan with nearest -2000.0 for element 0\n",
      "Replace nan with nearest -4000.0 for element 1\n",
      "Replace nan with nearest -8400.0 for element 2\n",
      "Replace nan with nearest -100.0 for element 3\n",
      "Replace nan with nearest 25.0 for element 4\n",
      "Replace nan with nearest 0.0 for element 5\n",
      "Replace nan with nearest -2000.0 for element 0\n",
      "Replace nan with nearest -4000.0 for element 1\n",
      "Replace nan with nearest -8400.0 for element 2\n",
      "Replace nan with nearest -100.0 for element 3\n",
      "Replace nan with nearest 25.0 for element 4\n",
      "Replace nan with nearest 0.0 for element 5\n",
      "Replace nan with nearest -1888.45 for element 0\n",
      "Replace nan with nearest -4088.52 for element 1\n",
      "Replace nan with nearest -8433.69 for element 2\n",
      "Replace nan with nearest -107.38 for element 3\n",
      "Replace nan with nearest 34.31 for element 4\n",
      "Replace nan with nearest 0.0 for element 5\n",
      "Replace nan with nearest -2000.0 for element 0\n",
      "Replace nan with nearest -4000.0 for element 1\n",
      "Replace nan with nearest -8400.0 for element 2\n",
      "Replace nan with nearest -100.0 for element 3\n",
      "Replace nan with nearest 25.0 for element 4\n",
      "Replace nan with nearest 0.0 for element 5\n",
      "Replace nan with nearest -2000.0 for element 0\n",
      "Replace nan with nearest -4000.0 for element 1\n",
      "Replace nan with nearest -8400.0 for element 2\n",
      "Replace nan with nearest -100.0 for element 3\n",
      "Replace nan with nearest 25.0 for element 4\n",
      "Replace nan with nearest 0.0 for element 5\n",
      "Replace nan with nearest -2000.0 for element 0\n",
      "Replace nan with nearest -4000.0 for element 1\n",
      "Replace nan with nearest -8400.0 for element 2\n",
      "Replace nan with nearest -100.0 for element 3\n",
      "Replace nan with nearest 25.0 for element 4\n",
      "Replace nan with nearest 0.0 for element 5\n",
      "Replace nan with nearest -2000.0 for element 0\n",
      "Replace nan with nearest -4000.0 for element 1\n",
      "Replace nan with nearest -8400.0 for element 2\n",
      "Replace nan with nearest -100.0 for element 3\n",
      "Replace nan with nearest 25.0 for element 4\n",
      "Replace nan with nearest 0.0 for element 5\n",
      "Replace nan with nearest -2000.0 for element 0\n",
      "Replace nan with nearest -4000.0 for element 1\n",
      "Replace nan with nearest -8400.0 for element 2\n",
      "Replace nan with nearest -100.0 for element 3\n",
      "Replace nan with nearest 25.0 for element 4\n",
      "Replace nan with nearest 0.0 for element 5\n",
      "Replace nan with nearest -2000.0 for element 0\n",
      "Replace nan with nearest -4000.0 for element 1\n",
      "Replace nan with nearest -8400.0 for element 2\n",
      "Replace nan with nearest -100.0 for element 3\n",
      "Replace nan with nearest 25.0 for element 4\n",
      "Replace nan with nearest 0.0 for element 5\n",
      "Replace nan with nearest -2000.0 for element 0\n",
      "Replace nan with nearest -4000.0 for element 1\n",
      "Replace nan with nearest -8400.0 for element 2\n",
      "Replace nan with nearest -100.0 for element 3\n",
      "Replace nan with nearest 25.0 for element 4\n",
      "Replace nan with nearest 0.0 for element 5\n",
      "Replace nan with nearest -2000.0 for element 0\n",
      "Replace nan with nearest -4000.0 for element 1\n",
      "Replace nan with nearest -8400.0 for element 2\n",
      "Replace nan with nearest -100.0 for element 3\n",
      "Replace nan with nearest 25.0 for element 4\n",
      "Replace nan with nearest 0.0 for element 5\n",
      "Replace nan with nearest -2000.0 for element 0\n",
      "Replace nan with nearest -4000.0 for element 1\n",
      "Replace nan with nearest -8400.0 for element 2\n",
      "Replace nan with nearest -100.0 for element 3\n",
      "Replace nan with nearest 25.0 for element 4\n",
      "Replace nan with nearest 0.0 for element 5\n",
      "Replace nan with nearest -2000.0 for element 0\n",
      "Replace nan with nearest -4000.0 for element 1\n",
      "Replace nan with nearest -8400.0 for element 2\n",
      "Replace nan with nearest -100.0 for element 3\n",
      "Replace nan with nearest 25.0 for element 4\n",
      "Replace nan with nearest 0.0 for element 5\n",
      "Replace nan with nearest -2000.0 for element 0\n",
      "Replace nan with nearest -4000.0 for element 1\n",
      "Replace nan with nearest -8400.0 for element 2\n",
      "Replace nan with nearest -100.0 for element 3\n",
      "Replace nan with nearest 25.0 for element 4\n",
      "Replace nan with nearest 0.0 for element 5\n"
     ]
    },
    {
     "name": "stderr",
     "output_type": "stream",
     "text": [
      "/global/u2/a/ajross/table.py:277: UserWarning: Warning: converting a masked element to nan.\n",
      "  if repr(val)=='nan' or math.isnan(val):\n"
     ]
    }
   ],
   "source": [
    "from matplotlib import pyplot as plt\n",
    "from table import LUT_table #this is what does LUT interpolation, AJR made fixes to nearest neighbor finding\n",
    "mt = (f['TTRUTSBT']+f['TTRUTSMT']+f['TTRUTSTT'])/3. #the temperatures used for autofocus\n",
    "af = -8400+(7.-mt)*110 #the autofocus equation\n",
    "lut = LUT_table('20190415frommartinilut_v2.txt') #Look up table\n",
    "'''\n",
    "make array with focus values from LUT\n",
    "'''\n",
    "zlut = np.zeros(len(af))\n",
    "for i in range(0,len(f)):\n",
    "    zlut[i] = lut.interpolate_delaunay(f[i]['MOUNTAZ'],f[i]['MOUNTEL'])[2] #get values, code reports when uses nearest neighbor\n",
    "\n",
    "aflut = af -(zlut+8400) #auto focus + look up table, with signs reversed based on analysis below"
   ]
  },
  {
   "cell_type": "code",
   "execution_count": 3,
   "metadata": {},
   "outputs": [
    {
     "data": {
      "image/png": "[encoded data removed]",
      "text/plain": [
       "<matplotlib.figure.Figure at 0x2aaad9fe2978>"
      ]
     },
     "metadata": {},
     "output_type": "display_data"
    }
   ],
   "source": [
    "'''\n",
    "plot elevation vs LUT difference to see that results make sense\n",
    "points near 90,0 were nearest neighbors to az,el 0,90 and get the fiducial value\n",
    "'''\n",
    "plt.plot(f['MOUNTEL'],aflut-af,'ko')\n",
    "plt.xlabel('Elevation')\n",
    "plt.ylabel('LUT correction to focus')\n",
    "plt.show()"
   ]
  },
  {
   "cell_type": "code",
   "execution_count": 4,
   "metadata": {},
   "outputs": [
    {
     "data": {
      "image/png": "[encoded data removed]",
      "text/plain": [
       "<matplotlib.figure.Figure at 0x2aaadeb27e48>"
      ]
     },
     "metadata": {},
     "output_type": "display_data"
    }
   ],
   "source": [
    "plt.plot(mt,f['focus_C']-aflut,'ko')\n",
    "rmsl = np.std(f['focus_C']-aflut-np.mean(f['focus_C']-aflut))\n",
    "plt.text(5,-130,'autofocus + LUT, rms ='+str(np.round(rmsl,3)),color='k')\n",
    "plt.plot(mt,f['focus_C']-af,'ro')\n",
    "rmsn = np.std(f['focus_C']-af-np.mean(f['focus_C']-af))\n",
    "plt.text(5,-200,'autofocus only, rms ='+str(np.round(rmsn,3)),color='r')\n",
    "plt.xlabel('Truss Temp')\n",
    "plt.ylabel(r'$\\Delta$ focus')\n",
    "plt.show()"
   ]
  },
  {
   "cell_type": "code",
   "execution_count": null,
   "metadata": {},
   "outputs": [],
   "source": []
  }
 ],
 "metadata": {
  "kernelspec": {
   "display_name": "DESI 18.7",
   "language": "python",
   "name": "desi-18.7"
  },
  "language_info": {
   "codemirror_mode": {
    "name": "ipython",
    "version": 3
   },
   "file_extension": ".py",
   "mimetype": "text/x-python",
   "name": "python",
   "nbconvert_exporter": "python",
   "pygments_lexer": "ipython3",
   "version": "3.6.6"
  }
 },
 "nbformat": 4,
 "nbformat_minor": 2
}
