{
 "cells": [
  {
   "cell_type": "code",
   "execution_count": 1,
   "metadata": {},
   "outputs": [],
   "source": [
    "import fitsio\n",
    "import numpy as np\n",
    "f = fitsio.read('focusdata.fits')"
   ]
  },
  {
   "cell_type": "code",
   "execution_count": 2,
   "metadata": {},
   "outputs": [
    {
     "name": "stdout",
     "output_type": "stream",
     "text": [
      "Loaded 20190415frommartinilut_v2.txt\n",
      "Replace nan with nearest -2000.0 for element 0\n",
      "Replace nan with nearest -4000.0 for element 1\n",
      "Replace nan with nearest -8400.0 for element 2\n",
      "Replace nan with nearest -100.0 for element 3\n",
      "Replace nan with nearest 25.0 for element 4\n",
      "Replace nan with nearest 0.0 for element 5\n",
      "Replace nan with nearest -1888.45 for element 0\n",
      "Replace nan with nearest -4088.52 for element 1\n",
      "Replace nan with nearest -8433.69 for element 2\n",
      "Replace nan with nearest -107.38 for element 3\n",
      "Replace nan with nearest 34.31 for element 4\n",
      "Replace nan with nearest 0.0 for element 5\n",
      "Replace nan with nearest -1994.26 for element 0\n",
      "Replace nan with nearest -4142.64 for element 1\n",
      "Replace nan with nearest -8437.0 for element 2\n",
      "Replace nan with nearest -111.9 for element 3\n",
      "Replace nan with nearest 25.48 for element 4\n",
      "Replace nan with nearest 0.0 for element 5\n",
      "Replace nan with nearest -2000.0 for element 0\n",
      "Replace nan with nearest -4000.0 for element 1\n",
      "Replace nan with nearest -8400.0 for element 2\n",
      "Replace nan with nearest -100.0 for element 3\n",
      "Replace nan with nearest 25.0 for element 4\n",
      "Replace nan with nearest 0.0 for element 5\n",
      "Replace nan with nearest -2000.0 for element 0\n",
      "Replace nan with nearest -4000.0 for element 1\n",
      "Replace nan with nearest -8400.0 for element 2\n",
      "Replace nan with nearest -100.0 for element 3\n",
      "Replace nan with nearest 25.0 for element 4\n",
      "Replace nan with nearest 0.0 for element 5\n",
      "Replace nan with nearest -2000.0 for element 0\n",
      "Replace nan with nearest -4000.0 for element 1\n",
      "Replace nan with nearest -8400.0 for element 2\n",
      "Replace nan with nearest -100.0 for element 3\n",
      "Replace nan with nearest 25.0 for element 4\n",
      "Replace nan with nearest 0.0 for element 5\n",
      "Replace nan with nearest -1888.45 for element 0\n",
      "Replace nan with nearest -4088.52 for element 1\n",
      "Replace nan with nearest -8433.69 for element 2\n",
      "Replace nan with nearest -107.38 for element 3\n",
      "Replace nan with nearest 34.31 for element 4\n",
      "Replace nan with nearest 0.0 for element 5\n",
      "Replace nan with nearest -2000.0 for element 0\n",
      "Replace nan with nearest -4000.0 for element 1\n",
      "Replace nan with nearest -8400.0 for element 2\n",
      "Replace nan with nearest -100.0 for element 3\n",
      "Replace nan with nearest 25.0 for element 4\n",
      "Replace nan with nearest 0.0 for element 5\n",
      "Replace nan with nearest -2000.0 for element 0\n",
      "Replace nan with nearest -4000.0 for element 1\n",
      "Replace nan with nearest -8400.0 for element 2\n",
      "Replace nan with nearest -100.0 for element 3\n",
      "Replace nan with nearest 25.0 for element 4\n",
      "Replace nan with nearest 0.0 for element 5\n",
      "Replace nan with nearest -2000.0 for element 0\n",
      "Replace nan with nearest -4000.0 for element 1\n",
      "Replace nan with nearest -8400.0 for element 2\n",
      "Replace nan with nearest -100.0 for element 3\n",
      "Replace nan with nearest 25.0 for element 4\n",
      "Replace nan with nearest 0.0 for element 5\n",
      "Replace nan with nearest -2000.0 for element 0\n",
      "Replace nan with nearest -4000.0 for element 1\n",
      "Replace nan with nearest -8400.0 for element 2\n",
      "Replace nan with nearest -100.0 for element 3\n",
      "Replace nan with nearest 25.0 for element 4\n",
      "Replace nan with nearest 0.0 for element 5\n",
      "Replace nan with nearest -2000.0 for element 0\n",
      "Replace nan with nearest -4000.0 for element 1\n",
      "Replace nan with nearest -8400.0 for element 2\n",
      "Replace nan with nearest -100.0 for element 3\n",
      "Replace nan with nearest 25.0 for element 4\n",
      "Replace nan with nearest 0.0 for element 5\n",
      "Replace nan with nearest -2000.0 for element 0\n",
      "Replace nan with nearest -4000.0 for element 1\n",
      "Replace nan with nearest -8400.0 for element 2\n",
      "Replace nan with nearest -100.0 for element 3\n",
      "Replace nan with nearest 25.0 for element 4\n",
      "Replace nan with nearest 0.0 for element 5\n",
      "Replace nan with nearest -2000.0 for element 0\n",
      "Replace nan with nearest -4000.0 for element 1\n",
      "Replace nan with nearest -8400.0 for element 2\n",
      "Replace nan with nearest -100.0 for element 3\n",
      "Replace nan with nearest 25.0 for element 4\n",
      "Replace nan with nearest 0.0 for element 5\n",
      "Replace nan with nearest -2000.0 for element 0\n",
      "Replace nan with nearest -4000.0 for element 1\n",
      "Replace nan with nearest -8400.0 for element 2\n",
      "Replace nan with nearest -100.0 for element 3\n",
      "Replace nan with nearest 25.0 for element 4\n",
      "Replace nan with nearest 0.0 for element 5\n",
      "Replace nan with nearest -2000.0 for element 0\n",
      "Replace nan with nearest -4000.0 for element 1\n",
      "Replace nan with nearest -8400.0 for element 2\n",
      "Replace nan with nearest -100.0 for element 3\n",
      "Replace nan with nearest 25.0 for element 4\n",
      "Replace nan with nearest 0.0 for element 5\n",
      "Replace nan with nearest -2000.0 for element 0\n",
      "Replace nan with nearest -4000.0 for element 1\n",
      "Replace nan with nearest -8400.0 for element 2\n",
      "Replace nan with nearest -100.0 for element 3\n",
      "Replace nan with nearest 25.0 for element 4\n",
      "Replace nan with nearest 0.0 for element 5\n",
      "Replace nan with nearest -2000.0 for element 0\n",
      "Replace nan with nearest -4000.0 for element 1\n",
      "Replace nan with nearest -8400.0 for element 2\n",
      "Replace nan with nearest -100.0 for element 3\n",
      "Replace nan with nearest 25.0 for element 4\n",
      "Replace nan with nearest 0.0 for element 5\n"
     ]
    },
    {
     "name": "stderr",
     "output_type": "stream",
     "text": [
      "/global/u2/a/ajross/table.py:277: UserWarning: Warning: converting a masked element to nan.\n",
      "  if repr(val)=='nan' or math.isnan(val):\n"
     ]
    }
   ],
   "source": [
    "from matplotlib import pyplot as plt\n",
    "from table import LUT_table #this is what does LUT interpolation, AJR made fixes to nearest neighbor finding\n",
    "mt = (f['TTRUTSBT']+f['TTRUTSMT']+f['TTRUTSTT'])/3. #the temperatures used for autofocus\n",
    "af = -8400+(7.-mt)*110 #the autofocus equation\n",
    "lut = LUT_table('20190415frommartinilut_v2.txt') #Look up table\n",
    "'''\n",
    "make array with focus values from LUT\n",
    "'''\n",
    "zlut = np.zeros(len(af))\n",
    "for i in range(0,len(f)):\n",
    "    zlut[i] = lut.interpolate_delaunay(f[i]['MOUNTAZ'],f[i]['MOUNTEL'])[2] #get values, code reports when uses nearest neighbor\n",
    "\n",
    "aflut = af -(zlut+8400) #auto focus + look up table, with signs reversed based on analysis below"
   ]
  },
  {
   "cell_type": "code",
   "execution_count": 3,
   "metadata": {},
   "outputs": [
    {
     "data": {
      "image/png": "[encoded data removed]",
      "text/plain": [
       "<matplotlib.figure.Figure at 0x2aaad9fe2978>"
      ]
     },
     "metadata": {},
     "output_type": "display_data"
    }
   ],
   "source": [
    "'''\n",
    "plot elevation vs LUT difference to see that results make sense\n",
    "points near 90,0 were nearest neighbors to az,el 0,90 and get the fiducial value\n",
    "'''\n",
    "plt.plot(f['MOUNTEL'],aflut-af,'ko')\n",
    "plt.xlabel('Elevation')\n",
    "plt.ylabel('LUT correction to focus')\n",
    "plt.show()"
   ]
  },
  {
   "cell_type": "code",
   "execution_count": 4,
   "metadata": {},
   "outputs": [
    {
     "data": {
      "image/png": "[encoded data removed]",
      "text/plain": [
       "<matplotlib.figure.Figure at 0x2aaadeb27e48>"
      ]
     },
     "metadata": {},
     "output_type": "display_data"
    }
   ],
   "source": [
    "plt.plot(mt,f['focus_C']-aflut,'ko')\n",
    "rmsl = np.std(f['focus_C']-aflut-np.mean(f['focus_C']-aflut))\n",
    "plt.text(5,-130,'autofocus + LUT, rms ='+str(np.round(rmsl,3)),color='k')\n",
    "plt.plot(mt,f['focus_C']-af,'ro')\n",
    "rmsn = np.std(f['focus_C']-af-np.mean(f['focus_C']-af))\n",
    "plt.text(5,-200,'autofocus only, rms ='+str(np.round(rmsn,3)),color='r')\n",
    "plt.xlabel('Truss Temp')\n",
    "plt.ylabel(r'$\\Delta$ focus')\n",
    "plt.show()"
   ]
  },
  {
   "cell_type": "code",
   "execution_count": 5,
   "metadata": {},
   "outputs": [
    {
     "data": {
      "text/plain": [
       "'\\nSo, the autofocus actually makes things slightly worse compared to just autofocus\\nBelow, look just at temperature focus relationships and then revisit LUT\\n'"
      ]
     },
     "execution_count": 5,
     "metadata": {},
     "output_type": "execute_result"
    }
   ],
   "source": [
    "'''\n",
    "So, the autofocus actually makes things slightly worse compared to just autofocus\n",
    "Below, look just at temperature focus relationships and then revisit LUT\n",
    "'''"
   ]
  },
  {
   "cell_type": "code",
   "execution_count": 6,
   "metadata": {},
   "outputs": [
    {
     "name": "stdout",
     "output_type": "stream",
     "text": [
      "coefficients are\n",
      "-119.951547577 -7457.40231156\n"
     ]
    },
    {
     "data": {
      "image/png": "[encoded data removed]",
      "text/plain": [
       "<matplotlib.figure.Figure at 0x2aaadeb7c828>"
      ]
     },
     "metadata": {},
     "output_type": "display_data"
    },
    {
     "data": {
      "text/plain": [
       "'\\nleast-squares not that much better than autofocus\\n'"
      ]
     },
     "execution_count": 6,
     "metadata": {},
     "output_type": "execute_result"
    }
   ],
   "source": [
    "'''\n",
    "least squares between truss temp and CIC focus\n",
    "'''\n",
    "A = np.vstack([mt, np.ones(len(mt))]).T\n",
    "m, c = np.linalg.lstsq(A, f['focus_C'])[0]\n",
    "afme = m*mt+c\n",
    "print('coefficients are')\n",
    "print(m,c)\n",
    "'''\n",
    "compare fit and autofocus residual\n",
    "'''\n",
    "plt.plot(mt,f['focus_C']-af,'ro')\n",
    "rmsa = np.std(f['focus_C']-af)\n",
    "am = np.mean(f['focus_C']-af)\n",
    "plt.text(5,-150,'autofocus, rms ='+str(np.round(rmsa,3)),color='r')\n",
    "plt.text(5,-180,'mean offset ='+str(np.round(am,3)),color='r')\n",
    "plt.plot(mt,f['focus_C']-afme,'bd')\n",
    "rmsm = np.std(f['focus_C']-afme)\n",
    "plt.text(5,-220,'least squares, rms ='+str(np.round(rmsm,3)),color='b')\n",
    "plt.xlabel('Truss temp')\n",
    "plt.ylabel(r'$\\Delta$ focus')\n",
    "plt.show()\n",
    "'''\n",
    "least-squares not that much better than autofocus\n",
    "'''"
   ]
  },
  {
   "cell_type": "code",
   "execution_count": 7,
   "metadata": {},
   "outputs": [
    {
     "name": "stdout",
     "output_type": "stream",
     "text": [
      "TARGTRA 0.314255768638 45\n",
      "0.308970748239 45\n",
      "TARGTDEC 0.109781143677 45\n",
      "0.108135911342 45\n",
      "MOUNTHA 0.0935679304818 45\n",
      "0.0922484640167 45\n",
      "MOUNTAZ -0.069135771906 45\n",
      "-0.0688639790416 45\n",
      "MOUNTEL -0.156166479698 45\n",
      "-0.152995105294 45\n",
      "AIRMASS 0.0798433433767 45\n",
      "0.0048713591967 45\n",
      "CI-T1 -0.2574497245 45\n",
      "-0.714440321764 45\n",
      "CI-T2 -0.276967894429 45\n",
      "-0.739258146182 45\n",
      "CI-T3 -0.290297507527 45\n",
      "-0.734493046131 45\n",
      "CI-T4 -0.288406759467 45\n",
      "-0.744255301052 45\n",
      "CI-T5 -0.19228159772 45\n",
      "-0.599099993119 45\n",
      "TDEWPNT 0.147564867405 45\n",
      "0.0831540630415 45\n",
      "TAIRFLOW nan 1\n",
      "nan 1\n",
      "TAIRITMP -0.324773655764 45\n",
      "-0.297215003439 45\n",
      "TAIROTMP -0.303706022934 45\n",
      "-0.250833320196 45\n",
      "TAIRTEMP -0.000484627822892 45\n",
      "-0.015941469035 45\n",
      "TCASITMP nan 45\n",
      "-5.02990949734e-15 45\n",
      "TCASOTMP -0.132973201544 45\n",
      "-0.544334562708 45\n",
      "TCSITEMP -0.158828253488 45\n",
      "-0.44157945494 45\n",
      "TCSOTEMP -0.0839248553804 45\n",
      "-0.617850702299 45\n",
      "TDBTEMP -0.130591874757 45\n",
      "-0.199387907703 45\n",
      "TPMNIBT -0.449498061915 45\n",
      "-0.495735249614 45\n",
      "TPMEOBT -0.375870592522 45\n",
      "-0.503196892332 45\n",
      "TTRSTEMP 0.0244824004947 45\n",
      "0.467875508105 45\n",
      "TTRWTEMP 0.0156427292548 45\n",
      "0.251702721934 45\n",
      "TTRUETBT -0.131930989426 45\n",
      "-0.778335955396 45\n",
      "TTRUETTT -0.0846412904128 45\n",
      "-0.534216569239 45\n",
      "TTRUNTBT -0.098892099398 45\n",
      "-0.663786874598 45\n",
      "TTRUNTTT -0.0651087194811 45\n",
      "-0.485218457173 45\n",
      "TTRUSTBT -0.119478284912 45\n",
      "-0.779266260337 45\n",
      "TTRUSTST -0.0945377688481 45\n",
      "-0.69384637053 45\n",
      "TTRUSTTT 0.00169174336446 45\n",
      "0.0479821112867 45\n",
      "TTRUTSBT 0.00433075266671 45\n",
      "0.14170630634 45\n",
      "TTRUTSMT 0.0100212095755 45\n",
      "0.433487817096 45\n",
      "TTRUTSTT -0.0141488605835 45\n",
      "-0.427114401789 45\n",
      "TTRUWTBT -0.122379174464 45\n",
      "-0.762940177546 45\n",
      "TTRUWTTT -0.0803311185554 45\n",
      "-0.55775919131 45\n",
      "AMNIENTN -0.474961274425 44\n",
      "-0.168773618624 44\n",
      "AMBIENTS -0.328780550495 44\n",
      "-0.126026512943 44\n",
      "OUTTEMP 0.0451318757737 45\n",
      "0.434740339554 45\n",
      "TELBASE -0.129900008019 44\n",
      "-0.292230151765 44\n"
     ]
    },
    {
     "name": "stderr",
     "output_type": "stream",
     "text": [
      "/global/common/software/desi/cori/desiconda/20180709-1.2.6-spec/conda/lib/python3.6/site-packages/numpy/lib/function_base.py:3159: RuntimeWarning: Degrees of freedom <= 0 for slice\n",
      "  c = cov(x, y, rowvar)\n",
      "/global/common/software/desi/cori/desiconda/20180709-1.2.6-spec/conda/lib/python3.6/site-packages/numpy/lib/function_base.py:3093: RuntimeWarning: divide by zero encountered in double_scalars\n",
      "  c *= 1. / np.float64(fact)\n",
      "/global/common/software/desi/cori/desiconda/20180709-1.2.6-spec/conda/lib/python3.6/site-packages/numpy/lib/function_base.py:3093: RuntimeWarning: invalid value encountered in multiply\n",
      "  c *= 1. / np.float64(fact)\n",
      "/global/common/software/desi/cori/desiconda/20180709-1.2.6-spec/conda/lib/python3.6/site-packages/numpy/lib/function_base.py:3167: RuntimeWarning: invalid value encountered in true_divide\n",
      "  c /= stddev[:, None]\n",
      "/global/common/software/desi/cori/desiconda/20180709-1.2.6-spec/conda/lib/python3.6/site-packages/numpy/lib/function_base.py:3168: RuntimeWarning: invalid value encountered in true_divide\n",
      "  c /= stddev[None, :]\n"
     ]
    }
   ],
   "source": [
    "'''\n",
    "Now see what correlates with focus least-square residuals\n",
    "look at available temperatures and temperature differences\n",
    "some quantities are basically null tests and give an idea of the random noise\n",
    "'''\n",
    "df = f['focus_C']-afme\n",
    "vl = []\n",
    "ql = []\n",
    "hquant = ['TARGTRA','TARGTDEC','MOUNTHA','MOUNTAZ','MOUNTEL','AIRMASS','CI-T1','CI-T2','CI-T3','CI-T4','CI-T5','TDEWPNT','TAIRFLOW','TAIRITMP','TAIROTMP','TAIRTEMP','TCASITMP','TCASOTMP','TCSITEMP','TCSOTEMP','TDBTEMP','TPMNIBT','TPMEOBT','TTRSTEMP','TTRWTEMP','TTRUETBT','TTRUETTT','TTRUNTBT','TTRUNTTT','TTRUSTBT','TTRUSTST','TTRUSTTT','TTRUTSBT','TTRUTSMT','TTRUTSTT','TTRUWTBT','TTRUWTTT','AMNIENTN','AMBIENTS','OUTTEMP','TELBASE']\n",
    "for q in hquant:\n",
    "    w = (f[q] != 0) #some quantities are 0 when there was no data\n",
    "    w &= (f[q]*0 == 0)#some quantities are NaN\n",
    "    print(q,np.corrcoef(f[w][q],df[w])[0][1],len(f[w]))\n",
    "    vl.append(np.corrcoef(f[w][q],df[w])[0][1])\n",
    "    ql.append(q)\n",
    "    dq = f[q][w]-mt[w]\n",
    "    print(np.corrcoef(dq,df[w])[0][1],len(f[w]))\n",
    "    vl.append(np.corrcoef(dq,df[w])[0][1])\n",
    "    ql.append('d'+q)"
   ]
  },
  {
   "cell_type": "code",
   "execution_count": 8,
   "metadata": {},
   "outputs": [
    {
     "name": "stdout",
     "output_type": "stream",
     "text": [
      "0.467875508105 dTTRSTEMP\n",
      "-0.779266260337 dTTRUSTBT\n"
     ]
    }
   ],
   "source": [
    "'''\n",
    "print out most significant correlations\n",
    "'''\n",
    "vl = np.array(vl)\n",
    "w = vl*0 != 0\n",
    "vl[w] = 0\n",
    "ind = np.argmax(vl)\n",
    "print(vl[ind],ql[ind])\n",
    "indm = np.argmin(vl)\n",
    "print(vl[indm],ql[indm])"
   ]
  },
  {
   "cell_type": "code",
   "execution_count": 9,
   "metadata": {},
   "outputs": [
    {
     "data": {
      "image/png": "[encoded data removed]",
      "text/plain": [
       "<matplotlib.figure.Figure at 0x2aaadec4a940>"
      ]
     },
     "metadata": {},
     "output_type": "display_data"
    }
   ],
   "source": [
    "'''\n",
    "difference between truss temp and TTRUSTBT most significant\n",
    "plot what it looks like\n",
    "'''\n",
    "plt.plot(f['TTRUSTBT']-mt,df,'ko')\n",
    "plt.xlabel('TTRUSTBT-truss temp')\n",
    "plt.ylabel(r'$\\Delta$ focus')\n",
    "plt.show()"
   ]
  },
  {
   "cell_type": "code",
   "execution_count": 10,
   "metadata": {},
   "outputs": [
    {
     "data": {
      "text/plain": [
       "Text(5,-220,'new least squares, rms =78.672')"
      ]
     },
     "execution_count": 10,
     "metadata": {},
     "output_type": "execute_result"
    },
    {
     "data": {
      "image/png": "[encoded data removed]",
      "text/plain": [
       "<matplotlib.figure.Figure at 0x2aaadec5c5f8>"
      ]
     },
     "metadata": {},
     "output_type": "display_data"
    }
   ],
   "source": [
    "'''\n",
    "indeed, that looks pretty significant\n",
    "get coefficients for it and look at improvement\n",
    "'''\n",
    "dt = f['TTRUSTBT']-mt\n",
    "A = np.vstack([dt, np.ones(len(mt))]).T\n",
    "md, cd = np.linalg.lstsq(A, f['focus_C']-afme)[0]\n",
    "modzd = afme+md*dt+cd\n",
    "rmsd = np.std(f['focus_C']-modzd)\n",
    "plt.plot(mt,f['focus_C']-afme,'ro')\n",
    "plt.text(5,-150,'original least squares, rms ='+str(np.round(rmsm,3)),color='r')\n",
    "plt.plot(mt,f['focus_C']-modzd,'bd')\n",
    "plt.text(5,-220,'new least squares, rms ='+str(np.round(rmsd,3)),color='b')"
   ]
  },
  {
   "cell_type": "code",
   "execution_count": 11,
   "metadata": {},
   "outputs": [
    {
     "name": "stdout",
     "output_type": "stream",
     "text": [
      "TARGTRA 0.208263829319 45\n",
      "0.224927059202 45\n",
      "TARGTDEC 0.429696617605 45\n",
      "0.526110796018 45\n",
      "MOUNTHA 0.176623614963 45\n",
      "0.230454473857 45\n",
      "MOUNTAZ 0.0136665654252 45\n",
      "0.0227096072404 45\n",
      "MOUNTEL 0.190921729709 45\n",
      "0.261723045992 45\n",
      "AIRMASS -0.342090683955 45\n",
      "0.264792875675 45\n",
      "CI-T1 -0.362772086482 45\n",
      "-0.203409507574 45\n",
      "CI-T2 -0.374609329858 45\n",
      "-0.233686490103 45\n",
      "CI-T3 -0.376410127575 45\n",
      "-0.231812827422 45\n",
      "CI-T4 -0.385174490907 45\n",
      "-0.247541305087 45\n",
      "CI-T5 -0.332188843084 45\n",
      "-0.131838739409 45\n",
      "TDEWPNT 0.223996256919 45\n",
      "0.356381669278 45\n",
      "TAIRFLOW nan 1\n",
      "nan 1\n",
      "TAIRITMP -0.268220610895 45\n",
      "0.23247281128 45\n",
      "TAIROTMP -0.294576459094 45\n",
      "0.219933894721 45\n",
      "TAIRTEMP -0.281831043409 45\n",
      "0.199779973856 45\n",
      "TCASITMP nan 45\n",
      "0.285597922154 45\n",
      "TCASOTMP -0.263942667932 45\n",
      "0.177763577135 45\n",
      "TCSITEMP -0.222980309385 45\n",
      "0.241274402627 45\n",
      "TCSOTEMP -0.281460907364 45\n",
      "0.0763336028302 45\n",
      "TDBTEMP -0.177431267979 45\n",
      "0.214701978864 45\n",
      "TPMNIBT -0.353339761279 45\n",
      "0.0800779771847 45\n",
      "TPMEOBT -0.288188488579 45\n",
      "0.123691425572 45\n",
      "TTRSTEMP -0.283346519937 45\n",
      "-0.154554122836 45\n",
      "TTRWTEMP -0.271371971468 45\n",
      "0.0356898718166 45\n",
      "TTRUETBT -0.297206660144 45\n",
      "-0.0336649304077 45\n",
      "TTRUETTT -0.285750259966 45\n",
      "-0.0846816061988 45\n",
      "TTRUNTBT -0.280556756796 45\n",
      "0.0798444208053 45\n",
      "TTRUNTTT -0.27281215705 45\n",
      "-0.00397799220831 45\n",
      "TTRUSTBT -0.292457577546 45\n",
      "2.34840873258e-15 45\n",
      "TTRUSTST -0.29191076609 45\n",
      "-0.0744219542563 45\n",
      "TTRUSTTT -0.284944618256 45\n",
      "-0.178661089468 45\n",
      "TTRUTSBT -0.285932183554 45\n",
      "0.140446637623 45\n",
      "TTRUTSMT -0.277103660037 45\n",
      "0.313189322988 45\n",
      "TTRUTSTT -0.293397358693 45\n",
      "-0.342712860664 45\n",
      "TTRUWTBT -0.298719370895 45\n",
      "-0.0598980048842 45\n",
      "TTRUWTTT -0.284521820003 45\n",
      "-0.118467066442 45\n",
      "AMNIENTN -0.375560759467 44\n",
      "0.200318828674 44\n",
      "AMBIENTS -0.276096458989 44\n",
      "0.255394733753 44\n",
      "OUTTEMP -0.270262754121 45\n",
      "-0.00017532797597 45\n",
      "TELBASE -0.216756078412 44\n",
      "0.345771255262 44\n",
      "\n",
      "\n",
      "0.526110796018 dTARGTDEC\n",
      "-0.385174490907 CI-T4\n"
     ]
    },
    {
     "name": "stderr",
     "output_type": "stream",
     "text": [
      "/global/common/software/desi/cori/desiconda/20180709-1.2.6-spec/conda/lib/python3.6/site-packages/numpy/lib/function_base.py:3159: RuntimeWarning: Degrees of freedom <= 0 for slice\n",
      "  c = cov(x, y, rowvar)\n",
      "/global/common/software/desi/cori/desiconda/20180709-1.2.6-spec/conda/lib/python3.6/site-packages/numpy/lib/function_base.py:3093: RuntimeWarning: divide by zero encountered in double_scalars\n",
      "  c *= 1. / np.float64(fact)\n",
      "/global/common/software/desi/cori/desiconda/20180709-1.2.6-spec/conda/lib/python3.6/site-packages/numpy/lib/function_base.py:3093: RuntimeWarning: invalid value encountered in multiply\n",
      "  c *= 1. / np.float64(fact)\n",
      "/global/common/software/desi/cori/desiconda/20180709-1.2.6-spec/conda/lib/python3.6/site-packages/numpy/lib/function_base.py:3167: RuntimeWarning: invalid value encountered in true_divide\n",
      "  c /= stddev[:, None]\n",
      "/global/common/software/desi/cori/desiconda/20180709-1.2.6-spec/conda/lib/python3.6/site-packages/numpy/lib/function_base.py:3168: RuntimeWarning: invalid value encountered in true_divide\n",
      "  c /= stddev[None, :]\n"
     ]
    }
   ],
   "source": [
    "'''\n",
    "Nice improvement, repeat procedure to see what else still correlates\n",
    "'''\n",
    "df = f['focus_C']-modzd\n",
    "vl = []\n",
    "ql = []\n",
    "hquant = ['TARGTRA','TARGTDEC','MOUNTHA','MOUNTAZ','MOUNTEL','AIRMASS','CI-T1','CI-T2','CI-T3','CI-T4','CI-T5','TDEWPNT','TAIRFLOW','TAIRITMP','TAIROTMP','TAIRTEMP','TCASITMP','TCASOTMP','TCSITEMP','TCSOTEMP','TDBTEMP','TPMNIBT','TPMEOBT','TTRSTEMP','TTRWTEMP','TTRUETBT','TTRUETTT','TTRUNTBT','TTRUNTTT','TTRUSTBT','TTRUSTST','TTRUSTTT','TTRUTSBT','TTRUTSMT','TTRUTSTT','TTRUWTBT','TTRUWTTT','AMNIENTN','AMBIENTS','OUTTEMP','TELBASE']\n",
    "for q in hquant:\n",
    "    w = (f[q] != 0) #some quantities are 0 when there was no data\n",
    "    w &= (f[q]*0 == 0)#some quantities are NaN\n",
    "    print(q,np.corrcoef(f[w][q],df[w])[0][1],len(f[w]))\n",
    "    vl.append(np.corrcoef(f[w][q],df[w])[0][1])\n",
    "    ql.append(q)\n",
    "    dq = f[q][w]-mt[w]\n",
    "    print(np.corrcoef(dq,df[w])[0][1],len(f[w]))\n",
    "    vl.append(np.corrcoef(dq,df[w])[0][1])\n",
    "    ql.append('d'+q)\n",
    "\n",
    "print('\\n')\n",
    "'''\n",
    "print out most significant correlations\n",
    "'''\n",
    "vl = np.array(vl)\n",
    "w = vl*0 != 0\n",
    "vl[w] = 0\n",
    "ind = np.argmax(vl)\n",
    "print(vl[ind],ql[ind])\n",
    "indm = np.argmin(vl)\n",
    "print(vl[indm],ql[indm])    "
   ]
  },
  {
   "cell_type": "code",
   "execution_count": 12,
   "metadata": {},
   "outputs": [
    {
     "data": {
      "image/png": "[encoded data removed]",
      "text/plain": [
       "<matplotlib.figure.Figure at 0x2aaadf1a8400>"
      ]
     },
     "metadata": {},
     "output_type": "display_data"
    },
    {
     "data": {
      "image/png": "[encoded data removed]",
      "text/plain": [
       "<matplotlib.figure.Figure at 0x2aaadf185eb8>"
      ]
     },
     "metadata": {},
     "output_type": "display_data"
    },
    {
     "data": {
      "image/png": "[encoded data removed]",
      "text/plain": [
       "<matplotlib.figure.Figure at 0x2aaadf117f98>"
      ]
     },
     "metadata": {},
     "output_type": "display_data"
    }
   ],
   "source": [
    "'''\n",
    "dTARGETDEC is probably noise (difference between temp and DEC); plot it anyway\n",
    "CI-T4 is temp on focal plane, so this could be tracking temperature differences\n",
    "'''\n",
    "plt.plot(f['TARGTDEC']-mt,f['focus_C']-modzd,'ko')\n",
    "plt.xlabel('TARGETDEC - truss temp')\n",
    "plt.ylabel(r'$\\Delta$ focus')\n",
    "plt.show()\n",
    "plt.plot(f['CI-T4'],f['focus_C']-modzd,'ko')\n",
    "plt.xlabel('CI-T4')\n",
    "plt.ylabel(r'$\\Delta$ focus')\n",
    "\n",
    "plt.show()\n",
    "'''\n",
    "CI-T4 trend looks like it could be something, get correction \n",
    "'''\n",
    "df = f['focus_C']-modzd\n",
    "A = np.vstack([f['CI-T4'], np.ones(len(mt))]).T\n",
    "mt4, ct4 = np.linalg.lstsq(A, df)[0]\n",
    "modz4 = modzd+mt4*(f['CI-T4'])+ct4\n",
    "rms4 = np.std(f['focus_C']-modz4)\n",
    "plt.plot(mt,f['focus_C']-modz4,'bd')\n",
    "plt.xlabel('Truss temp')\n",
    "plt.ylabel(r'$\\Delta$ focus')\n",
    "plt.text(5,-150,'rms after CI-T4 fit ='+str(np.round(rms4,3)))\n",
    "plt.show()\n"
   ]
  },
  {
   "cell_type": "code",
   "execution_count": 13,
   "metadata": {},
   "outputs": [
    {
     "name": "stdout",
     "output_type": "stream",
     "text": [
      "CI-T1 0.0234793656289 45\n",
      "-0.1514045908 45\n",
      "CI-T2 0.0111299238502 45\n",
      "-0.176847344015 45\n",
      "CI-T3 0.00910389339966 45\n",
      "-0.171218862038 45\n",
      "CI-T4 4.09739324009e-17 45\n",
      "-0.201228082053 45\n",
      "CI-T5 0.0541869450359 45\n",
      "-0.074652174996 45\n",
      "TDEWPNT 0.222547033289 45\n",
      "0.0633595387028 45\n",
      "TAIRFLOW nan 1\n",
      "nan 1\n",
      "TAIRITMP 0.0922772953606 45\n",
      "-0.0443976657678 45\n",
      "TAIROTMP 0.0604028656589 45\n",
      "-0.0749928528997 45\n",
      "TAIRTEMP 0.0803259192509 45\n",
      "0.0891620166234 45\n",
      "TCASITMP nan 45\n",
      "-0.0769935449955 45\n",
      "TCASOTMP 0.103751975184 45\n",
      "0.0855127650884 45\n",
      "TCSITEMP 0.136230434357 45\n",
      "0.14658067185 45\n",
      "TCSOTEMP 0.0873617815464 45\n",
      "0.0639625736708 45\n",
      "TDBTEMP 0.128874577994 45\n",
      "0.0658532159204 45\n",
      "TPMNIBT -0.0227464236163 45\n",
      "-0.151728493177 45\n",
      "TPMEOBT 0.0463129402625 45\n",
      "-0.0753542574217 45\n",
      "TTRSTEMP 0.0749398423508 45\n",
      "0.0140173610309 45\n",
      "TTRWTEMP 0.0900121847908 45\n",
      "0.261567767697 45\n",
      "TTRUETBT 0.0766495467561 45\n",
      "-0.0114169040586 45\n",
      "TTRUETTT 0.0923053120641 45\n",
      "0.119210645418 45\n",
      "TTRUNTBT 0.0942814146022 45\n",
      "0.103637337048 45\n",
      "TTRUNTTT 0.104024784715 45\n",
      "0.228208591888 45\n",
      "TTRUSTBT 0.0827041315995 45\n",
      "0.0251844058047 45\n",
      "TTRUSTST 0.08510715735 45\n",
      "0.0671213273673 45\n",
      "TTRUSTTT 0.0775974906135 45\n",
      "0.0702894402079 45\n",
      "TTRUTSBT 0.075077748667 45\n",
      "-0.103497845539 45\n",
      "TTRUTSMT 0.0848227132685 45\n",
      "0.353290979772 45\n",
      "TTRUTSTT 0.0710082635555 45\n",
      "-0.151760299702 45\n",
      "TTRUWTBT 0.0765529810957 45\n",
      "-0.00865165668149 45\n",
      "TTRUWTTT 0.092765682457 45\n",
      "0.143461389201 45\n",
      "AMNIENTN -0.123692341642 44\n",
      "-0.133221258611 44\n",
      "AMBIENTS 0.0383298116856 44\n",
      "-0.0819079028663 44\n",
      "OUTTEMP 0.0844207715215 45\n",
      "0.111414303692 45\n",
      "TELBASE 0.148609922191 44\n",
      "0.11150716677 44\n",
      "\n",
      "\n",
      "0.353290979772 dTTRUTSMT\n",
      "-0.201228082053 dCI-T4\n"
     ]
    },
    {
     "name": "stderr",
     "output_type": "stream",
     "text": [
      "/global/common/software/desi/cori/desiconda/20180709-1.2.6-spec/conda/lib/python3.6/site-packages/numpy/lib/function_base.py:3159: RuntimeWarning: Degrees of freedom <= 0 for slice\n",
      "  c = cov(x, y, rowvar)\n",
      "/global/common/software/desi/cori/desiconda/20180709-1.2.6-spec/conda/lib/python3.6/site-packages/numpy/lib/function_base.py:3093: RuntimeWarning: divide by zero encountered in double_scalars\n",
      "  c *= 1. / np.float64(fact)\n",
      "/global/common/software/desi/cori/desiconda/20180709-1.2.6-spec/conda/lib/python3.6/site-packages/numpy/lib/function_base.py:3093: RuntimeWarning: invalid value encountered in multiply\n",
      "  c *= 1. / np.float64(fact)\n",
      "/global/common/software/desi/cori/desiconda/20180709-1.2.6-spec/conda/lib/python3.6/site-packages/numpy/lib/function_base.py:3167: RuntimeWarning: invalid value encountered in true_divide\n",
      "  c /= stddev[:, None]\n",
      "/global/common/software/desi/cori/desiconda/20180709-1.2.6-spec/conda/lib/python3.6/site-packages/numpy/lib/function_base.py:3168: RuntimeWarning: invalid value encountered in true_divide\n",
      "  c /= stddev[None, :]\n"
     ]
    }
   ],
   "source": [
    "'''\n",
    "do another round\n",
    "'''\n",
    "df = f['focus_C']-modz4\n",
    "vl = []\n",
    "ql = []\n",
    "hquant = ['CI-T1','CI-T2','CI-T3','CI-T4','CI-T5','TDEWPNT','TAIRFLOW','TAIRITMP','TAIROTMP','TAIRTEMP','TCASITMP','TCASOTMP','TCSITEMP','TCSOTEMP','TDBTEMP','TPMNIBT','TPMEOBT','TTRSTEMP','TTRWTEMP','TTRUETBT','TTRUETTT','TTRUNTBT','TTRUNTTT','TTRUSTBT','TTRUSTST','TTRUSTTT','TTRUTSBT','TTRUTSMT','TTRUTSTT','TTRUWTBT','TTRUWTTT','AMNIENTN','AMBIENTS','OUTTEMP','TELBASE']\n",
    "for q in hquant:\n",
    "    w = (f[q] != 0) #some quantities are 0 when there was no data\n",
    "    w &= (f[q]*0 == 0)#some quantities are NaN\n",
    "    print(q,np.corrcoef(f[w][q],df[w])[0][1],len(f[w]))\n",
    "    vl.append(np.corrcoef(f[w][q],df[w])[0][1])\n",
    "    ql.append(q)\n",
    "    dq = f[q][w]-mt[w]\n",
    "    print(np.corrcoef(dq,df[w])[0][1],len(f[w]))\n",
    "    vl.append(np.corrcoef(dq,df[w])[0][1])\n",
    "    ql.append('d'+q)\n",
    "\n",
    "print('\\n')\n",
    "'''\n",
    "print out most significant correlations\n",
    "'''\n",
    "vl = np.array(vl)\n",
    "w = vl*0 != 0\n",
    "vl[w] = 0\n",
    "ind = np.argmax(vl)\n",
    "print(vl[ind],ql[ind])\n",
    "indm = np.argmin(vl)\n",
    "print(vl[indm],ql[indm])    "
   ]
  },
  {
   "cell_type": "code",
   "execution_count": 14,
   "metadata": {},
   "outputs": [
    {
     "data": {
      "image/png": "[encoded data removed]",
      "text/plain": [
       "<matplotlib.figure.Figure at 0x2aaadeb273c8>"
      ]
     },
     "metadata": {},
     "output_type": "display_data"
    },
    {
     "name": "stdout",
     "output_type": "stream",
     "text": [
      "-119.951547577 -182.965785193 -8.5942780788 309.343075566\n",
      "-7352.7841813\n"
     ]
    }
   ],
   "source": [
    "'''\n",
    "get correction for dTTRUTSMT\n",
    "'''\n",
    "\n",
    "A = np.vstack([f['TTRUTSMT']-mt, np.ones(len(mt))]).T\n",
    "mtsm, ctsm = np.linalg.lstsq(A, df)[0]\n",
    "modzsm = modz4+mtsm*(f['TTRUTSMT']-mt)+ctsm\n",
    "rmssm = np.std(f['focus_C']-modzsm)\n",
    "plt.plot(mt,f['focus_C']-modzsm,'bd')\n",
    "plt.xlabel('Truss temp')\n",
    "plt.ylabel(r'$\\Delta$ focus')\n",
    "plt.text(5,-150,'rms after dTTRUTSMT fit ='+str(np.round(rmssm,3)))\n",
    "plt.show()\n",
    "print(m,md,mt4,mtsm)\n",
    "print(c+cd+ct4+ctsm)"
   ]
  },
  {
   "cell_type": "code",
   "execution_count": 15,
   "metadata": {},
   "outputs": [
    {
     "data": {
      "text/plain": [
       "'\\nthat is good within 0.2 degrees\\n'"
      ]
     },
     "execution_count": 15,
     "metadata": {},
     "output_type": "execute_result"
    },
    {
     "data": {
      "image/png": "[encoded data removed]",
      "text/plain": [
       "<matplotlib.figure.Figure at 0x2aaadf156ac8>"
      ]
     },
     "metadata": {},
     "output_type": "display_data"
    }
   ],
   "source": [
    "'''\n",
    "that is now about as good as it gets for dT/dt correction\n",
    "total equation is\n",
    "Z = -7353.-119.95*trusstemp-182.97*(TTRUSTBT-trusstemp)-8.59*CI-T4+309.3*(TTRUTSMT-trusstemp)\n",
    "'''\n",
    "#confirm equation\n",
    "modztot = -7353.-119.95*mt-182.97*(f['TTRUSTBT']-mt)-8.59*f['CI-T4']+309.3*(f['TTRUTSMT']-mt)\n",
    "plt.plot(mt,modzsm-modztot,'ko')\n",
    "'''\n",
    "that is good within 0.2 degrees\n",
    "'''"
   ]
  },
  {
   "cell_type": "code",
   "execution_count": 16,
   "metadata": {},
   "outputs": [
    {
     "data": {
      "image/png": "[encoded data removed]",
      "text/plain": [
       "<matplotlib.figure.Figure at 0x2aaadf36e940>"
      ]
     },
     "metadata": {},
     "output_type": "display_data"
    },
    {
     "data": {
      "text/plain": [
       "'\\nresidual vs. elevation agrees pretty well with -(zlut+8400); this is opposite of what LUT+autofocus does\\n'"
      ]
     },
     "execution_count": 16,
     "metadata": {},
     "output_type": "execute_result"
    }
   ],
   "source": [
    "'''\n",
    "Now see if LUT improves things\n",
    "'''\n",
    "df =  f['focus_C']-  modztot\n",
    "plt.plot(f['MOUNTEL'],df,'ko')\n",
    "plt.plot(f['MOUNTEL'],-(zlut+8400),'ro')\n",
    "plt.xlabel('Elevation')\n",
    "plt.ylabel(r'$\\Delta Z$')\n",
    "plt.text(30,150,'focus after T reg.',color='k')\n",
    "plt.text(30,110,'-(Z(LUT)+8400)',color='r')\n",
    "plt.show()\n",
    "'''\n",
    "residual vs. elevation agrees pretty well with -(zlut+8400); this is opposite of what LUT+autofocus does\n",
    "'''"
   ]
  },
  {
   "cell_type": "code",
   "execution_count": 17,
   "metadata": {},
   "outputs": [
    {
     "data": {
      "image/png": "[encoded data removed]",
      "text/plain": [
       "<matplotlib.figure.Figure at 0x2aaadf3e2208>"
      ]
     },
     "metadata": {},
     "output_type": "display_data"
    }
   ],
   "source": [
    "'''\n",
    "Now look at how much LUT improves things\n",
    "'''\n",
    "modzlut = modztot-(zlut+8400)\n",
    "rmslut = np.std(f['focus_C']-modzlut)\n",
    "plt.plot(mt,f['focus_C']-modzlut,'ko')\n",
    "plt.xlabel('Truss temp')\n",
    "plt.ylabel(r'$\\Delta$ focus')\n",
    "plt.text(5,-150,'rms after LUT corr ='+str(np.round(rmslut,3)))\n",
    "plt.show()\n"
   ]
  },
  {
   "cell_type": "code",
   "execution_count": null,
   "metadata": {},
   "outputs": [],
   "source": []
  }
 ],
 "metadata": {
  "kernelspec": {
   "display_name": "DESI 18.7",
   "language": "python",
   "name": "desi-18.7"
  },
  "language_info": {
   "codemirror_mode": {
    "name": "ipython",
    "version": 3
   },
   "file_extension": ".py",
   "mimetype": "text/x-python",
   "name": "python",
   "nbconvert_exporter": "python",
   "pygments_lexer": "ipython3",
   "version": "3.6.6"
  }
 },
 "nbformat": 4,
 "nbformat_minor": 2
}
