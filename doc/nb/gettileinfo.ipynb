{
 "cells": [
  {
   "cell_type": "code",
   "execution_count": 1,
   "metadata": {},
   "outputs": [],
   "source": [
    "#This shows how to get information about tiles\n",
    "from select_CItiles import *\n"
   ]
  },
  {
   "cell_type": "code",
   "execution_count": 2,
   "metadata": {},
   "outputs": [
    {
     "name": "stdout",
     "output_type": "stream",
     "text": [
      "58675 got target info for each camera for tile 58675 centered on 205.77 34.35\n",
      "1 STARS ON ALL 5 CCDS PASSING MAG TEST for TILE 58675 centered on 205.77 34.35\n",
      "94 stars on center camera\n",
      "brightest is 8.0123\n",
      "60 stars on north camera\n",
      "brightest is 9.6763\n",
      "75 stars on east camera\n",
      "brightest is 11.5538\n",
      "70 stars on south camera\n",
      "brightest is 13.58\n",
      "57 stars on west camera\n",
      "brightest is 11.4847\n",
      "58676 got target info for each camera for tile 58676 centered on 203.64 39.47\n",
      "1 STARS ON ALL 5 CCDS PASSING MAG TEST for TILE 58676 centered on 203.64 39.47\n",
      "93 stars on center camera\n",
      "brightest is 12.6023\n",
      "67 stars on north camera\n",
      "brightest is 13.5585\n",
      "72 stars on east camera\n",
      "brightest is 9.69152\n",
      "59 stars on south camera\n",
      "brightest is 11.4714\n",
      "53 stars on west camera\n",
      "brightest is 12.2729\n",
      "58682 got target info for each camera for tile 58682 centered on 211.96 35.91\n",
      "1 STARS ON ALL 5 CCDS PASSING MAG TEST for TILE 58682 centered on 211.96 35.91\n",
      "99 stars on center camera\n",
      "brightest is 10.9327\n",
      "80 stars on north camera\n",
      "brightest is 13.5726\n",
      "70 stars on east camera\n",
      "brightest is 10.8783\n",
      "83 stars on south camera\n",
      "brightest is 15.2861\n",
      "68 stars on west camera\n",
      "brightest is 11.2521\n",
      "58686 got target info for each camera for tile 58686 centered on 218.24 37.18\n",
      "1 STARS ON ALL 5 CCDS PASSING MAG TEST for TILE 58686 centered on 218.24 37.18\n",
      "124 stars on center camera\n",
      "brightest is 11.8604\n",
      "85 stars on north camera\n",
      "brightest is 14.5602\n",
      "97 stars on east camera\n",
      "brightest is 10.3339\n",
      "67 stars on south camera\n",
      "brightest is 13.5518\n",
      "91 stars on west camera\n",
      "brightest is 12.7996\n",
      "58804 got target info for each camera for tile 58804 centered on 219.5699999999999 31.67\n",
      "1 STARS ON ALL 5 CCDS PASSING MAG TEST for TILE 58804 centered on 219.5699999999999 31.67\n",
      "88 stars on center camera\n",
      "brightest is 13.3488\n",
      "74 stars on north camera\n",
      "brightest is 12.8611\n",
      "85 stars on east camera\n",
      "brightest is 14.2389\n",
      "94 stars on south camera\n",
      "brightest is 13.4782\n",
      "102 stars on west camera\n",
      "brightest is 13.4252\n",
      "good tiles are:\n",
      "[58675, 58676, 58682, 58686, 58804]\n"
     ]
    },
    {
     "data": {
      "text/plain": [
       "True"
      ]
     },
     "execution_count": 2,
     "metadata": {},
     "output_type": "execute_result"
    }
   ],
   "source": [
    "#Decide some ra,dec range you want and the magnitude threshold for deciding the minimum brightness for a star per CCD\n",
    "#then run get_tile_info\n",
    "#If the version of the tile files has changed from 6, make to include that\n",
    "#This searches to find tiles centered within ra 200,220; dec 30,40, and reports the total number of stars if there is at least\n",
    "#one brighter than G=18 on each ccd\n",
    "get_tile_info(200,220,30,40,magtest=18,version=6)"
   ]
  },
  {
   "cell_type": "code",
   "execution_count": 3,
   "metadata": {},
   "outputs": [
    {
     "name": "stdout",
     "output_type": "stream",
     "text": [
      "58675 got target info for each camera for tile 58675 centered on 205.77 34.35\n",
      "1 STARS ON ALL 5 CCDS PASSING MAG TEST for TILE 58675 centered on 205.77 34.35\n",
      "4 stars on center camera\n",
      "brightest is 9.59163\n",
      "3 stars on north camera\n",
      "brightest is 15.8283\n",
      "2 stars on east camera\n",
      "brightest is 14.3369\n",
      "8 stars on south camera\n",
      "brightest is 13.887\n",
      "8 stars on west camera\n",
      "brightest is 13.2277\n",
      "58676 got target info for each camera for tile 58676 centered on 203.64 39.47\n",
      "1 STARS ON ALL 5 CCDS PASSING MAG TEST for TILE 58676 centered on 203.64 39.47\n",
      "6 stars on center camera\n",
      "brightest is 14.8293\n",
      "5 stars on north camera\n",
      "brightest is 16.4806\n",
      "5 stars on east camera\n",
      "brightest is 11.9279\n",
      "5 stars on south camera\n",
      "brightest is 14.6266\n",
      "2 stars on west camera\n",
      "brightest is 15.2465\n",
      "58682 got target info for each camera for tile 58682 centered on 211.96 35.91\n",
      "1 STARS ON ALL 5 CCDS PASSING MAG TEST for TILE 58682 centered on 211.96 35.91\n",
      "8 stars on center camera\n",
      "brightest is 10.9327\n",
      "7 stars on north camera\n",
      "brightest is 13.5726\n",
      "10 stars on east camera\n",
      "brightest is 10.8783\n",
      "7 stars on south camera\n",
      "brightest is 15.2861\n",
      "6 stars on west camera\n",
      "brightest is 15.09\n",
      "58686 got target info for each camera for tile 58686 centered on 218.24 37.18\n",
      "1 STARS ON ALL 5 CCDS PASSING MAG TEST for TILE 58686 centered on 218.24 37.18\n",
      "7 stars on center camera\n",
      "brightest is 14.1812\n",
      "12 stars on north camera\n",
      "brightest is 14.934\n",
      "8 stars on east camera\n",
      "brightest is 10.505\n",
      "8 stars on south camera\n",
      "brightest is 15.6419\n",
      "8 stars on west camera\n",
      "brightest is 13.3828\n",
      "58804 got target info for each camera for tile 58804 centered on 219.5699999999999 31.67\n",
      "1 STARS ON ALL 5 CCDS PASSING MAG TEST for TILE 58804 centered on 219.5699999999999 31.67\n",
      "5 stars on center camera\n",
      "brightest is 15.0648\n",
      "2 stars on north camera\n",
      "brightest is 16.3857\n",
      "8 stars on east camera\n",
      "brightest is 14.6587\n",
      "5 stars on south camera\n",
      "brightest is 16.1132\n",
      "10 stars on west camera\n",
      "brightest is 15.1227\n",
      "good tiles are:\n",
      "[58675, 58676, 58682, 58686, 58804]\n"
     ]
    },
    {
     "data": {
      "text/plain": [
       "True"
      ]
     },
     "execution_count": 3,
     "metadata": {},
     "output_type": "execute_result"
    }
   ],
   "source": [
    "#v6 tile files are 4x as big now. It is therefore reasonable to compare with v4 to see what is really expected on the tile\n",
    "get_tile_info(200,220,30,40,magtest=18,version=4)"
   ]
  },
  {
   "cell_type": "code",
   "execution_count": 4,
   "metadata": {},
   "outputs": [
    {
     "name": "stdout",
     "output_type": "stream",
     "text": [
      "Populating the interactive namespace from numpy and matplotlib\n"
     ]
    },
    {
     "name": "stderr",
     "output_type": "stream",
     "text": [
      "/global/common/software/desi/cori/desiconda/20180709-1.2.6-spec/conda/lib/python3.6/site-packages/matplotlib/collections.py:853: RuntimeWarning: invalid value encountered in sqrt\n",
      "  scale = np.sqrt(self._sizes) * dpi / 72.0 * self._factor\n"
     ]
    },
    {
     "data": {
      "image/png": "[encoded data removed]",
      "text/plain": [
       "<matplotlib.figure.Figure at 0x2aabe317cf60>"
      ]
     },
     "metadata": {},
     "output_type": "display_data"
    },
    {
     "data": {
      "image/png": "[encoded data removed]",
      "text/plain": [
       "<matplotlib.figure.Figure at 0x2aaadca11eb8>"
      ]
     },
     "metadata": {},
     "output_type": "display_data"
    },
    {
     "data": {
      "image/png": "[encoded data removed]",
      "text/plain": [
       "<matplotlib.figure.Figure at 0x2aaadca5f6a0>"
      ]
     },
     "metadata": {},
     "output_type": "display_data"
    },
    {
     "data": {
      "image/png": "[encoded data removed]",
      "text/plain": [
       "<matplotlib.figure.Figure at 0x2aaadcafff28>"
      ]
     },
     "metadata": {},
     "output_type": "display_data"
    },
    {
     "data": {
      "image/png": "[encoded data removed]",
      "text/plain": [
       "<matplotlib.figure.Figure at 0x2aaadcb551d0>"
      ]
     },
     "metadata": {},
     "output_type": "display_data"
    }
   ],
   "source": [
    "#It could be helpful to actually plot the distribution of stars. This plot the stars in each CCD, in the orientation displayed \n",
    "#by the LS CI viewer http://legacysurvey.org/viewer/ci\n",
    "#below picks the last \"good\" tile from above\n",
    "#add items to sel if you want to restrict what gets plotted (e.g., to select only guide stars)\n",
    "#anything fainter than 18.1 currently gets a negative size\n",
    "#it only plots objects within the region the CCDs are expected to cover\n",
    "import fitsio\n",
    "%pylab inline\n",
    "tiledir = '/project/projectdirs/desi/cmx/ci/tiles/v6/'\n",
    "tile = 58804\n",
    "tilefile = tiledir+'citile-058804.fits'\n",
    "h = fitsio.read_header(tilefile)\n",
    "tra = h['TILERA']\n",
    "tdec = h['TILEDEC']\n",
    "f = fitsio.read(tilefile)\n",
    "\n",
    "from select_CItiles import plotcam\n",
    "locl = [3,2,1,4,5]\n",
    "for loc in locl:\n",
    "    sel = (f['GFA_LOC'] == loc) #& (f['IS_GUIDE'] == 1)\n",
    "    plotcam(loc,f[sel],tra,tdec,tar='TARGET_')"
   ]
  }
 ],
 "metadata": {
  "kernelspec": {
   "display_name": "DESI master",
   "language": "python",
   "name": "desi-master"
  },
  "language_info": {
   "codemirror_mode": {
    "name": "ipython",
    "version": 3
   },
   "file_extension": ".py",
   "mimetype": "text/x-python",
   "name": "python",
   "nbconvert_exporter": "python",
   "pygments_lexer": "ipython3",
   "version": "3.6.6"
  }
 },
 "nbformat": 4,
 "nbformat_minor": 2
}
