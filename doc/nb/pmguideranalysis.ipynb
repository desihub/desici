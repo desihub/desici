{
 "cells": [
  {
   "cell_type": "code",
   "execution_count": 1,
   "metadata": {},
   "outputs": [],
   "source": [
    "import numpy as np\n",
    "import pdb\n",
    "import matplotlib.pylab as plt\n",
    "import re\n",
    "from astropy.io import fits\n",
    "import subprocess\n",
    "import os\n",
    "import sys\n",
    "# runpm.py has code to run gfaproc and process the output to get just the good sequences \n",
    "from runpm import *"
   ]
  },
  {
   "cell_type": "markdown",
   "metadata": {},
   "source": [
    "See gfaproctests notebook for how to update the comm.par files for a fresh copy of the data "
   ]
  },
  {
   "cell_type": "code",
   "execution_count": 2,
   "metadata": {},
   "outputs": [],
   "source": [
    "os.environ['DESI_DIR']='/project/projectdirs/desi/users/skent/plate/desi'"
   ]
  },
  {
   "cell_type": "code",
   "execution_count": 3,
   "metadata": {},
   "outputs": [
    {
     "data": {
      "text/plain": [
       "'/global/u2/c/crockosi/platemaker'"
      ]
     },
     "execution_count": 3,
     "metadata": {},
     "output_type": "execute_result"
    }
   ],
   "source": [
    "pwd()"
   ]
  },
  {
   "cell_type": "markdown",
   "metadata": {},
   "source": [
    "First set up environment variables and path<br>\n",
    "Don't use sys.path.insert, that does not get inherited by the subprocess."
   ]
  },
  {
   "cell_type": "code",
   "execution_count": 7,
   "metadata": {},
   "outputs": [],
   "source": [
    "os.environ['DATADIR']='/project/projectdirs/desi/spectro/data'\n",
    "os.environ['PMDIR']='test_gfaproc_astrom_20190815'\n",
    "os.environ['DESI_DIR']='/project/projectdirs/desi/users/skent/plate/desi'\n",
    "os.environ['KENTOOLS_DIR']='/project/projectdirs/desi/users/skent/plate/kentools'\n",
    "os.environ['DES_DIR']='/project/projectdirs/desi/users/skent/plate/des'\n",
    "os.environ['DERVISH_STARTUP']='/global/project/projectdirs/desi/users/skent/plate/dervish/etc/dervishStartup.tcl'\n",
    "os.environ['DERVISH_DIR']='/global/project/projectdirs/desi/users/skent/plate/dervish'\n",
    "os.environ['ASTROTOOLS_STARTUP']='/project/projectdirs/desi/users/skent/products/astrotools-123513/etc/astrotoolsStartup.tcl'\n",
    "os.environ['ASTROTOOLS_DIR']='/project/projectdirs/desi/users/skent/products/astrotools-123513'\n",
    "os.environ['IMG_STARTUP']='/project/projectdirs/desi/users/skent/plate/desi/etc/init.tcl'"
   ]
  },
  {
   "cell_type": "code",
   "execution_count": 5,
   "metadata": {},
   "outputs": [],
   "source": [
    "os.environ['PATH'] = os.environ['DATADIR']+':'+os.environ['PATH']\n",
    "os.environ['PATH'] = os.environ['PMDIR']+':'+os.environ['PATH']\n",
    "os.environ['PATH'] = os.environ['DESI_DIR']+':'+os.environ['PATH']\n",
    "os.environ['PATH'] = os.environ['KENTOOLS_DIR']+':'+os.environ['PATH']\n",
    "os.environ['PATH'] = os.environ['DES_DIR']+':'+os.environ['PATH']\n",
    "os.environ['PATH'] = '/project/projectdirs/desi/users/skent/plate/desi/bin'+':'+os.environ['PATH']\n",
    "os.environ['PATH'] = '/project/projectdirs/desi/users/skent/plate/des/bin'+':'+os.environ['PATH']\n",
    "os.environ['PATH'] = '/project/projectdirs/desi/users/skent/plate/kentools/bin'+':'+os.environ['PATH']\n",
    "os.environ['PATH'] = '/project/projectdirs/desi/users/skent/products/fpack-141/bin'+':'+os.environ['PATH']\n",
    "os.environ['PATH'] = '/project/projectdirs/desi/users/skent/products/ds9/bin'+':'+os.environ['PATH']\n",
    "os.environ['PATH'] = '/project/projectdirs/desi/users/skent/products/fftw-123513/bin'+':'+os.environ['PATH']\n",
    "os.environ['PATH'] = '/project/projectdirs/desi/users/skent/products/xpa-2.1.13/bin'+':'+os.environ['PATH']\n",
    "os.environ['PATH'] = '/project/projectdirs/desi/users/skent/products/tcl-8.4.11/bin'+':'+os.environ['PATH']\n",
    "os.environ['PATH'] = '/global/project/projectdirs/desi/users/skent/plate/sdsstools/bin'+':'+os.environ['PATH']\n",
    "os.environ['PATH'] = '/project/projectdirs/desi/users/skent/products/pgplot-123513/bin'+':'+os.environ['PATH']"
   ]
  },
  {
   "cell_type": "code",
   "execution_count": 12,
   "metadata": {},
   "outputs": [
    {
     "data": {
      "text/plain": [
       "'/global/u2/c/crockosi/platemaker/test'"
      ]
     },
     "execution_count": 12,
     "metadata": {},
     "output_type": "execute_result"
    }
   ],
   "source": [
    "pwd()"
   ]
  },
  {
   "cell_type": "code",
   "execution_count": 8,
   "metadata": {},
   "outputs": [],
   "source": [
    "successlist,fewmatchlist,badpointinglist,nomatchlist,missinghdulist,missinghduerrlist,badimagelist,badnfsproclist,otherlist = sortgfaprocout()"
   ]
  },
  {
   "cell_type": "code",
   "execution_count": 9,
   "metadata": {},
   "outputs": [
    {
     "data": {
      "text/plain": [
       "402"
      ]
     },
     "execution_count": 9,
     "metadata": {},
     "output_type": "execute_result"
    }
   ],
   "source": [
    "len(successlist)"
   ]
  },
  {
   "cell_type": "markdown",
   "metadata": {},
   "source": [
    "from gfaproctests notebook, sequences that have 0 field rotation: 13046,13138,13146"
   ]
  },
  {
   "cell_type": "code",
   "execution_count": 13,
   "metadata": {},
   "outputs": [],
   "source": [
    "os.chdir('..')"
   ]
  },
  {
   "cell_type": "markdown",
   "metadata": {},
   "source": [
    "The next few cells test the recipe for running the gfaproc analysis on the individual guider frames from a guider cube after running PM's guideSplit code to split the cube into frames.<br>\n",
    "It starts after the recipe was tested on the command line on guider files 0-4. "
   ]
  },
  {
   "cell_type": "code",
   "execution_count": 10,
   "metadata": {},
   "outputs": [],
   "source": [
    "#os.chdir('test/13146')"
   ]
  },
  {
   "cell_type": "code",
   "execution_count": 14,
   "metadata": {},
   "outputs": [],
   "source": [
    "#cmdstr1 = 'confignext '+ '13146'"
   ]
  },
  {
   "cell_type": "code",
   "execution_count": 15,
   "metadata": {},
   "outputs": [],
   "source": [
    "#oneout = subprocess.run(cmdstr1,shell=True,stdout=subprocess.PIPE,stderr=subprocess.STDOUT)"
   ]
  },
  {
   "cell_type": "code",
   "execution_count": 19,
   "metadata": {},
   "outputs": [],
   "source": [
    "#configval = np.int(oneout.stdout)"
   ]
  },
  {
   "cell_type": "code",
   "execution_count": 25,
   "metadata": {},
   "outputs": [
    {
     "data": {
      "text/plain": [
       "'11'"
      ]
     },
     "execution_count": 25,
     "metadata": {},
     "output_type": "execute_result"
    }
   ],
   "source": [
    "#str(configval).format(':%d')"
   ]
  },
  {
   "cell_type": "code",
   "execution_count": 35,
   "metadata": {},
   "outputs": [],
   "source": [
    "#guideval= 5"
   ]
  },
  {
   "cell_type": "code",
   "execution_count": 36,
   "metadata": {},
   "outputs": [],
   "source": [
    "#seqid = '13146'"
   ]
  },
  {
   "cell_type": "code",
   "execution_count": 37,
   "metadata": {},
   "outputs": [],
   "source": [
    "#cmdstr2 = 'cp guide-'+seqid+'-'+str(guideval).format(':%d')+'.fits gfa-'+seqid+'.'+str(configval-1).format(':%d')+'.fits'"
   ]
  },
  {
   "cell_type": "code",
   "execution_count": 38,
   "metadata": {},
   "outputs": [
    {
     "data": {
      "text/plain": [
       "'cp guide-13146-5.fits gfa-13146.10.fits'"
      ]
     },
     "execution_count": 38,
     "metadata": {},
     "output_type": "execute_result"
    }
   ],
   "source": [
    "#cmdstr2"
   ]
  },
  {
   "cell_type": "markdown",
   "metadata": {},
   "source": [
    "rungfaprocguidercube assumes you have run guideSplit to make a guider cube into a list of files: <br>\n",
    "For seqid 13146, they would be guide-13146-0.fits through guide-13146-N.fits where N is the number of guide exposures. Exposure 0 is the acquisition image. <br>\n",
    "seqid is a string<br>\n",
    "nguideframes is the number of guider frames into which the cube was split.  This code could be more clever and not need to have that as an argument.<br>\n",
    "For each guider frame, run confignext then gfaproc. <br>\n",
    "confignext will keep track of the numbering."
   ]
  },
  {
   "cell_type": "code",
   "execution_count": 14,
   "metadata": {},
   "outputs": [],
   "source": [
    "def rungfaprocguidercube(seqid, nguideframes, istart=0):\n",
    "    os.chdir(seqid)\n",
    "    for guideval in range(istart,nguideframes):\n",
    "        # run confighext\n",
    "        cmdstr1 = 'confignext ' + seqid\n",
    "        oneout = subprocess.run(cmdstr1,shell=True,stdout=subprocess.PIPE,stderr=subprocess.STDOUT)\n",
    "        if oneout.returncode > 0:\n",
    "            print('ERROR comfignext '+seqid + ' '+cmdstr1)\n",
    "            os.chdir('..')\n",
    "            continue\n",
    "        configval = np.int(oneout.stdout)\n",
    "        # now copy guider file to a gfaproc file\n",
    "        cmdstr2 = 'cp guide-'+seqid+'-'+str(guideval).format(':%d')+'.fits gfa-'+seqid+'.'+str(configval-1).format(':%d')+'.fits'\n",
    "        twoout = subprocess.run(cmdstr2,shell=True,stdout=subprocess.PIPE,stderr=subprocess.STDOUT)\n",
    "        if twoout.returncode > 0:\n",
    "            print('ERROR guide copy '+seqid)\n",
    "            os.chdir('..')\n",
    "            continue\n",
    "        cmdstr3 = 'gfaproc ' + seqid\n",
    "        threeout = subprocess.run(cmdstr3,shell=True,stdout=subprocess.PIPE,stderr=subprocess.STDOUT)\n",
    "        if threeout.returncode > 0:\n",
    "            print('ERROR gfaproc '+seqid)\n",
    "    os.chdir('..')"
   ]
  },
  {
   "cell_type": "code",
   "execution_count": 15,
   "metadata": {},
   "outputs": [
    {
     "data": {
      "text/plain": [
       "'/global/u2/c/crockosi/platemaker'"
      ]
     },
     "execution_count": 15,
     "metadata": {},
     "output_type": "execute_result"
    }
   ],
   "source": [
    "pwd()"
   ]
  },
  {
   "cell_type": "code",
   "execution_count": 52,
   "metadata": {},
   "outputs": [],
   "source": [
    "os.chdir('..')"
   ]
  },
  {
   "cell_type": "code",
   "execution_count": 73,
   "metadata": {},
   "outputs": [],
   "source": [
    "rungfaprocguidercube('13146',53)"
   ]
  },
  {
   "cell_type": "code",
   "execution_count": 16,
   "metadata": {},
   "outputs": [],
   "source": [
    "# read set of gfaproc outputs run on guider frames\n",
    "# configstart is the first gfaproc.out file to read. 5 is usualy the first reprocess\n",
    "# note if you re-ran gfaproc and then ran on the guide cube you ran on the acquisition \n",
    "# image twice.  start at configstart=6 unless you want to re-analyze the gfaproc outout\n",
    "# twice, in which case you need to loop to nguideframes+1 below\n",
    "def readguidergfaprocs(seqid, nguideframes,configstart=5):\n",
    "    os.chdir(seqid)\n",
    "    scalelist = []\n",
    "    # field rotation degrees\n",
    "    rotlist = []\n",
    "    # rms x,y in arcsec\n",
    "    rmsxlist = []\n",
    "    rmsylist = []\n",
    "    halist = []\n",
    "    declist = []\n",
    "    zdlist = []\n",
    "    paranglelist = []\n",
    "    maxlist = []\n",
    "    # pointing corrections in ra,dec in arcsec\n",
    "    raofflist = []\n",
    "    decofflist = []\n",
    "    # read output of nfsproc\n",
    "    nfsname = 'nfs-' + seqid + '.2.par'\n",
    "    nfsdict = {}\n",
    "    with open(nfsname) as nfsf:\n",
    "        for nline in nfsf:\n",
    "            llist = nline.split()\n",
    "            if re.search('#',llist[0]) != None:\n",
    "                continue\n",
    "            ikey = llist[0]\n",
    "            if ikey in ['raBore','decBore','zd','psi','ha','exptime','mjd','yr','mon','day','spectime']:\n",
    "                nfsdict[ikey] = np.double(llist[1])\n",
    "    # get all gfaproc.out files\n",
    "    alllist = os.listdir()\n",
    "    gfaoutlist = []\n",
    "    # go to nguideframes because we re-read the first reprocess. it should be\n",
    "    # identical to the reprocess of guide file 0, which will be the second gfaproc out\n",
    "    # file read in this scheme\n",
    "    for i in range(configstart,configstart+nguideframes):\n",
    "        gfaprocfile = 'gfaproc-'+seqid+'.'+str(i).format(':%d')+'.out'\n",
    "        with open(gfaprocfile) as matchf:\n",
    "            for matchl in matchf:\n",
    "                llist = matchl.split()\n",
    "                if len(llist) < 1:\n",
    "                    continue\n",
    "                if (re.match('scale',llist[0]) != None):\n",
    "                    if ((re.match('correction',llist[1])!= None) & (len(llist) > 6)):\n",
    "                        scale = float(llist[2])\n",
    "                        # add rotation zero point from comm.par file \n",
    "                        #rotation = float(llist[5]) + float(llist[9])\n",
    "                        # no, don't do that\n",
    "                        rotation = float(llist[5])\n",
    "                if ((re.match('rmsx',llist[0]) != None) & (len(llist) > 4)):\n",
    "                    if (re.match('arcsec',llist[4])!= None):\n",
    "                        rmsx = float(llist[1])\n",
    "                        rmsy = float(llist[3])\n",
    "                if (re.match('Pointing',llist[0]) != None):\n",
    "                    raoffall = llist[5]\n",
    "                    raoff = float(re.search('([-0-9.]+)(\\,$)',raoffall).group(1))\n",
    "                    decoff = float(llist[8])\n",
    "        scalelist.append(scale)\n",
    "        rotlist.append(rotation)\n",
    "        rmsxlist.append(rmsx)\n",
    "        rmsylist.append(rmsy)\n",
    "        halist.append(nfsdict['ha'])\n",
    "        declist.append(nfsdict['decBore'])\n",
    "        zdlist.append(nfsdict['zd'])\n",
    "        paranglelist.append(nfsdict['psi'])\n",
    "        raofflist.append(raoff)\n",
    "        decofflist.append(decoff)\n",
    "    scalelist = np.asarray(scalelist)\n",
    "    rotlist = np.asarray(rotlist)\n",
    "    rmsxlist = np.asarray(rmsxlist)\n",
    "    rmsylist = np.asarray(rmsylist)\n",
    "    halist = np.asarray(halist)\n",
    "    declist = np.asarray(declist)\n",
    "    zdlist = np.asarray(zdlist)\n",
    "    paranglelist = np.asarray(paranglelist)\n",
    "    raofflist = np.asarray(raofflist)\n",
    "    decofflist = np.asarray(decofflist)\n",
    "    os.chdir('..')\n",
    "    return scalelist,rotlist,rmsxlist,rmsylist,halist,declist,zdlist,paranglelist,raofflist,decofflist\n",
    "\n",
    "        \n",
    "        \n",
    "        "
   ]
  },
  {
   "cell_type": "code",
   "execution_count": 17,
   "metadata": {},
   "outputs": [
    {
     "data": {
      "text/plain": [
       "'/global/u2/c/crockosi/platemaker'"
      ]
     },
     "execution_count": 17,
     "metadata": {},
     "output_type": "execute_result"
    }
   ],
   "source": [
    "pwd()"
   ]
  },
  {
   "cell_type": "code",
   "execution_count": 18,
   "metadata": {},
   "outputs": [],
   "source": [
    "os.chdir('test')"
   ]
  },
  {
   "cell_type": "code",
   "execution_count": 20,
   "metadata": {},
   "outputs": [],
   "source": [
    "scalelist,rotlist,rmsxlist,rmsylist,halist,declist,zdlist,paranglelist,raofflist,decofflist=readguidergfaprocs('13146', 53)\n"
   ]
  },
  {
   "cell_type": "code",
   "execution_count": 21,
   "metadata": {},
   "outputs": [
    {
     "data": {
      "text/plain": [
       "53"
      ]
     },
     "execution_count": 21,
     "metadata": {},
     "output_type": "execute_result"
    }
   ],
   "source": [
    "len(scalelist)"
   ]
  },
  {
   "cell_type": "code",
   "execution_count": 22,
   "metadata": {},
   "outputs": [
    {
     "data": {
      "image/png": "[encoded data removed]",
      "text/plain": [
       "<matplotlib.figure.Figure at 0x2aaadaf4beb8>"
      ]
     },
     "metadata": {},
     "output_type": "display_data"
    }
   ],
   "source": [
    "a,b,c = plt.hist(rotlist*3600,bins=20)"
   ]
  },
  {
   "cell_type": "code",
   "execution_count": 23,
   "metadata": {},
   "outputs": [
    {
     "data": {
      "image/png": "[encoded data removed]",
      "text/plain": [
       "<matplotlib.figure.Figure at 0x2aaadaf98ac8>"
      ]
     },
     "metadata": {},
     "output_type": "display_data"
    }
   ],
   "source": [
    "a,b,c = plt.hist(rmsxlist,bins=20)"
   ]
  },
  {
   "cell_type": "code",
   "execution_count": 24,
   "metadata": {},
   "outputs": [
    {
     "data": {
      "image/png": "[encoded data removed]",
      "text/plain": [
       "<matplotlib.figure.Figure at 0x2aaadfadbeb8>"
      ]
     },
     "metadata": {},
     "output_type": "display_data"
    }
   ],
   "source": [
    "a,b,c = plt.hist(rmsylist,bins=20)"
   ]
  },
  {
   "cell_type": "code",
   "execution_count": 25,
   "metadata": {},
   "outputs": [
    {
     "data": {
      "image/png": "[encoded data removed]",
      "text/plain": [
       "<matplotlib.figure.Figure at 0x2aaadfb77940>"
      ]
     },
     "metadata": {},
     "output_type": "display_data"
    }
   ],
   "source": [
    "a,b,c = plt.hist(raofflist,bins=20)"
   ]
  },
  {
   "cell_type": "code",
   "execution_count": 29,
   "metadata": {},
   "outputs": [
    {
     "data": {
      "image/png": "[encoded data removed]",
      "text/plain": [
       "<matplotlib.figure.Figure at 0x2aaadfd62240>"
      ]
     },
     "metadata": {},
     "output_type": "display_data"
    }
   ],
   "source": [
    "a,b,c = plt.hist(decofflist,bins=20)"
   ]
  },
  {
   "cell_type": "markdown",
   "metadata": {},
   "source": [
    "The outliers in the two plots above are the acquisition image in guider frame 0, before the pointing offset. "
   ]
  },
  {
   "cell_type": "code",
   "execution_count": 30,
   "metadata": {},
   "outputs": [
    {
     "data": {
      "image/png": "[encoded data removed]",
      "text/plain": [
       "<matplotlib.figure.Figure at 0x2aaadfce4780>"
      ]
     },
     "metadata": {},
     "output_type": "display_data"
    }
   ],
   "source": [
    "a,b,c = plt.hist(raofflist,bins=20,range=[-0.5,0.5])"
   ]
  },
  {
   "cell_type": "code",
   "execution_count": 31,
   "metadata": {},
   "outputs": [
    {
     "data": {
      "image/png": "[encoded data removed]",
      "text/plain": [
       "<matplotlib.figure.Figure at 0x2aaadfbebc88>"
      ]
     },
     "metadata": {},
     "output_type": "display_data"
    }
   ],
   "source": [
    "a,b,c = plt.hist(decofflist,bins=20,range=[-0.5,0.5])"
   ]
  },
  {
   "cell_type": "markdown",
   "metadata": {},
   "source": [
    "Now plot the offset vs. time as measured by PM. This should match the guider offsets in the ICS output, but it will not quite because of the way guide stars are weighted. "
   ]
  },
  {
   "cell_type": "markdown",
   "metadata": {},
   "source": [
    "Big initial offset is for the acquisiton image again."
   ]
  },
  {
   "cell_type": "code",
   "execution_count": 33,
   "metadata": {},
   "outputs": [
    {
     "data": {
      "text/plain": [
       "[<matplotlib.lines.Line2D at 0x2aaadfb9cb38>]"
      ]
     },
     "execution_count": 33,
     "metadata": {},
     "output_type": "execute_result"
    },
    {
     "data": {
      "image/png": "[encoded data removed]",
      "text/plain": [
       "<matplotlib.figure.Figure at 0x2aaadfb233c8>"
      ]
     },
     "metadata": {},
     "output_type": "display_data"
    }
   ],
   "source": [
    "plt.plot(raofflist)"
   ]
  },
  {
   "cell_type": "code",
   "execution_count": 34,
   "metadata": {},
   "outputs": [
    {
     "data": {
      "text/plain": [
       "(-0.5, 0.5)"
      ]
     },
     "execution_count": 34,
     "metadata": {},
     "output_type": "execute_result"
    },
    {
     "data": {
      "image/png": "[encoded data removed]",
      "text/plain": [
       "<matplotlib.figure.Figure at 0x2aaadfbbbbe0>"
      ]
     },
     "metadata": {},
     "output_type": "display_data"
    }
   ],
   "source": [
    "plt.plot(raofflist)\n",
    "plt.ylim(-0.5,0.5)"
   ]
  },
  {
   "cell_type": "code",
   "execution_count": 35,
   "metadata": {},
   "outputs": [
    {
     "data": {
      "text/plain": [
       "array([ 3.92, -0.5 ,  0.01,  0.13,  0.21])"
      ]
     },
     "execution_count": 35,
     "metadata": {},
     "output_type": "execute_result"
    }
   ],
   "source": [
    "raofflist[0:5]"
   ]
  },
  {
   "cell_type": "code",
   "execution_count": 36,
   "metadata": {},
   "outputs": [
    {
     "data": {
      "text/plain": [
       "array([ 4.19, -0.  ,  0.17,  0.19,  0.17])"
      ]
     },
     "execution_count": 36,
     "metadata": {},
     "output_type": "execute_result"
    }
   ],
   "source": [
    "decofflist[0:5]"
   ]
  },
  {
   "cell_type": "code",
   "execution_count": 37,
   "metadata": {},
   "outputs": [
    {
     "data": {
      "text/plain": [
       "-0.069230769230769221"
      ]
     },
     "execution_count": 37,
     "metadata": {},
     "output_type": "execute_result"
    }
   ],
   "source": [
    "np.mean(raofflist[1:])"
   ]
  },
  {
   "cell_type": "code",
   "execution_count": 38,
   "metadata": {},
   "outputs": [
    {
     "data": {
      "text/plain": [
       "0.099999999999999992"
      ]
     },
     "execution_count": 38,
     "metadata": {},
     "output_type": "execute_result"
    }
   ],
   "source": [
    "np.mean(decofflist[1:])"
   ]
  },
  {
   "cell_type": "code",
   "execution_count": 39,
   "metadata": {},
   "outputs": [
    {
     "data": {
      "text/plain": [
       "[<matplotlib.lines.Line2D at 0x2aaadfe14d30>]"
      ]
     },
     "execution_count": 39,
     "metadata": {},
     "output_type": "execute_result"
    },
    {
     "data": {
      "image/png": "[encoded data removed]",
      "text/plain": [
       "<matplotlib.figure.Figure at 0x2aaadfb0c240>"
      ]
     },
     "metadata": {},
     "output_type": "display_data"
    }
   ],
   "source": [
    "plt.plot(decofflist)"
   ]
  },
  {
   "cell_type": "code",
   "execution_count": 40,
   "metadata": {},
   "outputs": [
    {
     "data": {
      "text/plain": [
       "(-0.1, 0.35)"
      ]
     },
     "execution_count": 40,
     "metadata": {},
     "output_type": "execute_result"
    },
    {
     "data": {
      "image/png": "[encoded data removed]",
      "text/plain": [
       "<matplotlib.figure.Figure at 0x2aaadfdf0668>"
      ]
     },
     "metadata": {},
     "output_type": "display_data"
    }
   ],
   "source": [
    "plt.plot(decofflist)\n",
    "plt.ylim(-0.1,0.35)"
   ]
  },
  {
   "cell_type": "code",
   "execution_count": null,
   "metadata": {},
   "outputs": [],
   "source": []
  }
 ],
 "metadata": {
  "kernelspec": {
   "display_name": "DESI 18.7",
   "language": "python",
   "name": "desi-18.7"
  },
  "language_info": {
   "codemirror_mode": {
    "name": "ipython",
    "version": 3
   },
   "file_extension": ".py",
   "mimetype": "text/x-python",
   "name": "python",
   "nbconvert_exporter": "python",
   "pygments_lexer": "ipython3",
   "version": "3.6.6"
  }
 },
 "nbformat": 4,
 "nbformat_minor": 4
}
